{
 "cells": [
  {
   "cell_type": "code",
   "execution_count": 3,
   "id": "d00ef0ea",
   "metadata": {},
   "outputs": [],
   "source": [
    "import matplotlib.pyplot as plt\n",
    "\n",
    "from tensorflow import keras\n",
    "from tensorflow.keras.models import Sequential\n",
    "from tensorflow.keras.preprocessing.image import ImageDataGenerator\n",
    "\n",
    "from tensorflow.keras.callbacks import EarlyStopping\n",
    "from tensorflow.keras.layers import Input, Dense, Conv2D, Flatten, MaxPooling2D\n",
    "from tensorflow.keras.optimizers import Adam\n",
    "from tensorflow.keras.losses import CategoricalCrossentropy\n",
    "from tensorflow.keras.metrics import CategoricalAccuracy, AUC\n",
    "\n",
    "import matplotlib.pyplot as plt"
   ]
  },
  {
   "cell_type": "code",
   "execution_count": 4,
   "id": "c011353c",
   "metadata": {},
   "outputs": [
    {
     "ename": "FileNotFoundError",
     "evalue": "[WinError 3] The system cannot find the path specified: 'classify_xrays/Covid19-dataset/train'",
     "output_type": "error",
     "traceback": [
      "\u001b[1;31m---------------------------------------------------------------------------\u001b[0m",
      "\u001b[1;31mFileNotFoundError\u001b[0m                         Traceback (most recent call last)",
      "\u001b[1;32m~\\AppData\\Local\\Temp\\ipykernel_13228\\2467434610.py\u001b[0m in \u001b[0;36m<module>\u001b[1;34m\u001b[0m\n\u001b[0;32m      8\u001b[0m )\n\u001b[0;32m      9\u001b[0m \u001b[1;31m# Imported training images with specific requirements\u001b[0m\u001b[1;33m\u001b[0m\u001b[1;33m\u001b[0m\u001b[0m\n\u001b[1;32m---> 10\u001b[1;33m training_iterator = training_generator.flow_from_directory(\n\u001b[0m\u001b[0;32m     11\u001b[0m   \u001b[1;34m'classify_xrays/Covid19-dataset/train'\u001b[0m\u001b[1;33m,\u001b[0m\u001b[1;33m\u001b[0m\u001b[1;33m\u001b[0m\u001b[0m\n\u001b[0;32m     12\u001b[0m   \u001b[0mclass_mode\u001b[0m \u001b[1;33m=\u001b[0m \u001b[1;34m\"categorical\"\u001b[0m\u001b[1;33m,\u001b[0m\u001b[1;33m\u001b[0m\u001b[1;33m\u001b[0m\u001b[0m\n",
      "\u001b[1;32m~\\anaconda3\\lib\\site-packages\\keras\\preprocessing\\image.py\u001b[0m in \u001b[0;36mflow_from_directory\u001b[1;34m(self, directory, target_size, color_mode, classes, class_mode, batch_size, shuffle, seed, save_to_dir, save_prefix, save_format, follow_links, subset, interpolation, keep_aspect_ratio)\u001b[0m\n\u001b[0;32m   1646\u001b[0m                 \u001b[1;32mand\u001b[0m\u001b[0;31m \u001b[0m\u001b[0;31m`\u001b[0m\u001b[0my\u001b[0m\u001b[0;31m`\u001b[0m \u001b[1;32mis\u001b[0m \u001b[0ma\u001b[0m \u001b[0mnumpy\u001b[0m \u001b[0marray\u001b[0m \u001b[0mof\u001b[0m \u001b[0mcorresponding\u001b[0m \u001b[0mlabels\u001b[0m\u001b[1;33m.\u001b[0m\u001b[1;33m\u001b[0m\u001b[1;33m\u001b[0m\u001b[0m\n\u001b[0;32m   1647\u001b[0m         \"\"\"\n\u001b[1;32m-> 1648\u001b[1;33m         return DirectoryIterator(\n\u001b[0m\u001b[0;32m   1649\u001b[0m             \u001b[0mdirectory\u001b[0m\u001b[1;33m,\u001b[0m\u001b[1;33m\u001b[0m\u001b[1;33m\u001b[0m\u001b[0m\n\u001b[0;32m   1650\u001b[0m             \u001b[0mself\u001b[0m\u001b[1;33m,\u001b[0m\u001b[1;33m\u001b[0m\u001b[1;33m\u001b[0m\u001b[0m\n",
      "\u001b[1;32m~\\anaconda3\\lib\\site-packages\\keras\\preprocessing\\image.py\u001b[0m in \u001b[0;36m__init__\u001b[1;34m(self, directory, image_data_generator, target_size, color_mode, classes, class_mode, batch_size, shuffle, seed, data_format, save_to_dir, save_prefix, save_format, follow_links, subset, interpolation, keep_aspect_ratio, dtype)\u001b[0m\n\u001b[0;32m    561\u001b[0m         \u001b[1;32mif\u001b[0m \u001b[1;32mnot\u001b[0m \u001b[0mclasses\u001b[0m\u001b[1;33m:\u001b[0m\u001b[1;33m\u001b[0m\u001b[1;33m\u001b[0m\u001b[0m\n\u001b[0;32m    562\u001b[0m             \u001b[0mclasses\u001b[0m \u001b[1;33m=\u001b[0m \u001b[1;33m[\u001b[0m\u001b[1;33m]\u001b[0m\u001b[1;33m\u001b[0m\u001b[1;33m\u001b[0m\u001b[0m\n\u001b[1;32m--> 563\u001b[1;33m             \u001b[1;32mfor\u001b[0m \u001b[0msubdir\u001b[0m \u001b[1;32min\u001b[0m \u001b[0msorted\u001b[0m\u001b[1;33m(\u001b[0m\u001b[0mos\u001b[0m\u001b[1;33m.\u001b[0m\u001b[0mlistdir\u001b[0m\u001b[1;33m(\u001b[0m\u001b[0mdirectory\u001b[0m\u001b[1;33m)\u001b[0m\u001b[1;33m)\u001b[0m\u001b[1;33m:\u001b[0m\u001b[1;33m\u001b[0m\u001b[1;33m\u001b[0m\u001b[0m\n\u001b[0m\u001b[0;32m    564\u001b[0m                 \u001b[1;32mif\u001b[0m \u001b[0mos\u001b[0m\u001b[1;33m.\u001b[0m\u001b[0mpath\u001b[0m\u001b[1;33m.\u001b[0m\u001b[0misdir\u001b[0m\u001b[1;33m(\u001b[0m\u001b[0mos\u001b[0m\u001b[1;33m.\u001b[0m\u001b[0mpath\u001b[0m\u001b[1;33m.\u001b[0m\u001b[0mjoin\u001b[0m\u001b[1;33m(\u001b[0m\u001b[0mdirectory\u001b[0m\u001b[1;33m,\u001b[0m \u001b[0msubdir\u001b[0m\u001b[1;33m)\u001b[0m\u001b[1;33m)\u001b[0m\u001b[1;33m:\u001b[0m\u001b[1;33m\u001b[0m\u001b[1;33m\u001b[0m\u001b[0m\n\u001b[0;32m    565\u001b[0m                     \u001b[0mclasses\u001b[0m\u001b[1;33m.\u001b[0m\u001b[0mappend\u001b[0m\u001b[1;33m(\u001b[0m\u001b[0msubdir\u001b[0m\u001b[1;33m)\u001b[0m\u001b[1;33m\u001b[0m\u001b[1;33m\u001b[0m\u001b[0m\n",
      "\u001b[1;31mFileNotFoundError\u001b[0m: [WinError 3] The system cannot find the path specified: 'classify_xrays/Covid19-dataset/train'"
     ]
    }
   ],
   "source": [
    "#Define information about training images \n",
    "training_generator = ImageDataGenerator(\n",
    "        rescale=1./255,\n",
    "        zoom_range=0.2,\n",
    "        rotation_range=15,\n",
    "        width_shift_range=0.05,\n",
    "        height_shift_range=0.05\n",
    ")\n",
    "# Imported training images with specific requirements\n",
    "training_iterator = training_generator.flow_from_directory(\n",
    "  'classify_xrays/Covid19-dataset/train',\n",
    "  class_mode = \"categorical\",\n",
    "  color_mode = 'grayscale',\n",
    "  target_size = (256,256),\n",
    "  batch_size = 32,\n",
    "  shuffle=True\n",
    ")\n",
    "\n",
    "# Define information about validation images \n",
    "validation_generator = ImageDataGenerator(rescale=1./255)\n",
    "# Imported training images with specific requirements\n",
    "validation_iterator = validation_generator.flow_from_directory(\n",
    "  'classify_xrays/Covid19-dataset/test',\n",
    "  class_mode = \"categorical\",\n",
    "  color_mode = 'grayscale',\n",
    "  target_size = (256,256),\n",
    "  batch_size = 32,\n",
    "  shuffle=True\n",
    ")\n"
   ]
  },
  {
   "cell_type": "code",
   "execution_count": null,
   "id": "190737fd",
   "metadata": {},
   "outputs": [],
   "source": [
    "# Create Model\n",
    "model = Sequential()\n",
    "\n",
    "# Input Layer\n",
    "model.add(Input(shape=(256,256,1)))\n",
    "\n",
    "# Flatten Layer\n",
    "model.add(Flatten())\n",
    "# Output Layer\n",
    "model.add(Dense(3, activation='softmax'))\n",
    "\n",
    "# Summary report \n",
    "model.summary()"
   ]
  },
  {
   "cell_type": "code",
   "execution_count": null,
   "id": "a36caac6",
   "metadata": {},
   "outputs": [],
   "source": [
    "# Compile optimizer, loss and metrics to enhance the model performance\n",
    "model.compile(\n",
    "  optimizer=Adam(learning_rate=0.001),\n",
    "  loss=CategoricalCrossentropy(),\n",
    "  metrics=[CategoricalAccuracy(), AUC()]\n",
    ")\n",
    "\n",
    "# Train and evaluate model\n",
    "model.fit(\n",
    "  training_iterator,\n",
    "  steps_per_epoch=training_iterator.samples//32,\n",
    "  epochs=20,\n",
    "  validation_data=validation_iterator,\n",
    "  validation_steps=validation_iterator.samples // 32,\n",
    ")"
   ]
  },
  {
   "cell_type": "code",
   "execution_count": null,
   "id": "55ae7e0f",
   "metadata": {},
   "outputs": [],
   "source": [
    "# Create Model\n",
    "model_complex = Sequential()\n",
    "\n",
    "# Input Layer\n",
    "model_complex.add(Input(shape=(256,256,1)))\n",
    "\n",
    "# Hidden Layer\n",
    "model_complex.add(Conv2D(2,5,strides=1,activation='relu'))\n",
    "model_complex.add(MaxPooling2D(pool_size=(5, 5), strides=(5,5)))\n",
    "model_complex.add(Conv2D(4,4,strides=2,activation='relu'))\n",
    "model_complex.add(MaxPooling2D(pool_size=(2, 2), strides=(2,2)))\n",
    "model_complex.add(Conv2D(6,3,strides=2,activation='relu'))\n",
    "\n",
    "# Flatten Layer\n",
    "model_complex.add(Flatten())\n",
    "\n",
    "# Output Layer\n",
    "model_complex.add(Dense(3, activation='softmax'))\n",
    "\n",
    "# Summary report \n",
    "model_complex.summary()"
   ]
  },
  {
   "cell_type": "code",
   "execution_count": null,
   "id": "703e8ae5",
   "metadata": {},
   "outputs": [],
   "source": [
    "# Compile optimizer, loss and metrics to enhance the model performance\n",
    "model_complex.compile(\n",
    "  optimizer=Adam(learning_rate=0.005),\n",
    "  loss=CategoricalCrossentropy(),\n",
    "  metrics=[CategoricalAccuracy(), AUC()]\n",
    ")\n",
    "\n",
    "# Train and evaluate model\n",
    "history = model_complex.fit(\n",
    "  training_iterator,\n",
    "  steps_per_epoch=training_iterator.samples//32,\n",
    "  epochs=20,\n",
    "  validation_data=validation_iterator,\n",
    "  validation_steps=validation_iterator.samples // 32,\n",
    ")"
   ]
  },
  {
   "cell_type": "code",
   "execution_count": null,
   "id": "8cb565dd",
   "metadata": {},
   "outputs": [],
   "source": [
    "# plotting categorical and validation accuracy over epochs\n",
    "fig = plt.figure()\n",
    "ax1 = fig.add_subplot(2, 1, 1)\n",
    "ax1.plot(history.history['categorical_accuracy'])\n",
    "ax1.plot(history.history['val_categorical_accuracy'])\n",
    "ax1.set_title('model accuracy')\n",
    "ax1.set_xlabel('epoch')\n",
    "ax1.set_ylabel('accuracy')\n",
    "ax1.legend(['train', 'validation'], loc='upper left')\n",
    " \n",
    "# plotting auc and validation auc over epochs\n",
    "ax2 = fig.add_subplot(2, 1, 2)\n",
    "ax2.plot(history.history['auc_24'])\n",
    "ax2.plot(history.history['val_auc_24'])\n",
    "ax2.set_title('model auc')\n",
    "ax2.set_xlabel('epoch')\n",
    "ax2.set_ylabel('auc')\n",
    "ax2.legend(['train', 'validation'], loc='upper left')\n",
    " \n",
    "# used to keep plots from overlapping\n",
    "fig.tight_layout()\n"
   ]
  },
  {
   "cell_type": "code",
   "execution_count": null,
   "id": "49a21bb2",
   "metadata": {},
   "outputs": [],
   "source": []
  }
 ],
 "metadata": {
  "kernelspec": {
   "display_name": "Python 3 (ipykernel)",
   "language": "python",
   "name": "python3"
  },
  "language_info": {
   "codemirror_mode": {
    "name": "ipython",
    "version": 3
   },
   "file_extension": ".py",
   "mimetype": "text/x-python",
   "name": "python",
   "nbconvert_exporter": "python",
   "pygments_lexer": "ipython3",
   "version": "3.9.13"
  }
 },
 "nbformat": 4,
 "nbformat_minor": 5
}
